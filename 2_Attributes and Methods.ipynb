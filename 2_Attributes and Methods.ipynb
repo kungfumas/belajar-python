{
  "cells": [
    {
      "cell_type": "markdown",
      "metadata": {
        "id": "view-in-github",
        "colab_type": "text"
      },
      "source": [
        "<a href=\"https://colab.research.google.com/github/kungfumas/belajar-python/blob/master/2_Attributes%20and%20Methods.ipynb\" target=\"_parent\"><img src=\"https://colab.research.google.com/assets/colab-badge.svg\" alt=\"Open In Colab\"/></a>"
      ]
    },
    {
      "cell_type": "markdown",
      "metadata": {
        "id": "LXarqLnTU7Y9"
      },
      "source": [
        "# 2. Attributes and Methods\n",
        "\n",
        "# Data Members\n",
        "Data members are attributes declared within a class. They are properties that further define a class.\n",
        "There are two types of attributes: **`class attributes`** and **`instance attributes`**.\n",
        "\n",
        "## Class Attribute\n",
        "An attribute that is common across all instances of a class is called a class attribute.\n",
        "\n",
        "**_`For Every object of the class which you create, the value of a class attribute will remain the same.`_**\n",
        "\n",
        "Class attributes are accessed by using class name as the\n",
        "prefix.\n",
        "\n",
        "* __Syntax:__\n",
        "```python\n",
        "class className:\n",
        "    classAttribbute = value\n",
        "```"
      ]
    },
    {
      "cell_type": "code",
      "execution_count": null,
      "metadata": {
        "id": "uxG89NRUU7ZD"
      },
      "outputs": [],
      "source": [
        "# Number of Working hours is same to all of the Employee\n",
        "class Employee:\n",
        "    numberOfWorkingHours = 40    "
      ]
    },
    {
      "cell_type": "code",
      "execution_count": null,
      "metadata": {
        "id": "gUZeKNLMU7ZE",
        "outputId": "222ea25a-749d-42d4-8ec5-5d265dd5ecf0"
      },
      "outputs": [
        {
          "data": {
            "text/plain": [
              "40"
            ]
          },
          "execution_count": 2,
          "metadata": {},
          "output_type": "execute_result"
        }
      ],
      "source": [
        "# Create EmployeeOne Object and check the Number of Working hours\n",
        "employeeOne = Employee()\n",
        "employeeOne.numberOfWorkingHours"
      ]
    },
    {
      "cell_type": "code",
      "execution_count": null,
      "metadata": {
        "id": "76scQO7uU7ZG",
        "outputId": "b1d445f5-62f0-4e25-da76-a20f81fa3db2"
      },
      "outputs": [
        {
          "data": {
            "text/plain": [
              "40"
            ]
          },
          "execution_count": 3,
          "metadata": {},
          "output_type": "execute_result"
        }
      ],
      "source": [
        "# Create EmployeeTwo Object and check the Number of Working hours\n",
        "employeeTwo = Employee()\n",
        "employeeTwo.numberOfWorkingHours"
      ]
    },
    {
      "cell_type": "markdown",
      "metadata": {
        "id": "z3HT3zBsU7ZG"
      },
      "source": [
        "### Change the class attributes"
      ]
    },
    {
      "cell_type": "code",
      "execution_count": null,
      "metadata": {
        "id": "SqEHs-_EU7ZH"
      },
      "outputs": [],
      "source": [
        "# Change the number of working hours to 45\n",
        "Employee.numberOfWorkingHours = 45"
      ]
    },
    {
      "cell_type": "code",
      "execution_count": null,
      "metadata": {
        "id": "MGsXp8c0U7ZH",
        "outputId": "6f21788d-aed8-45ba-aab8-885dc6e3955c"
      },
      "outputs": [
        {
          "name": "stdout",
          "output_type": "stream",
          "text": [
            "Employee One Working Hours:  45\n",
            "Employee Two Working Hours:  45\n"
          ]
        }
      ],
      "source": [
        "# Check the number of working hours of object created\n",
        "print(\"Employee One Working Hours: \",\n",
        "      employeeOne.numberOfWorkingHours)\n",
        "print(\"Employee Two Working Hours: \",\n",
        "      employeeTwo.numberOfWorkingHours)"
      ]
    },
    {
      "cell_type": "markdown",
      "metadata": {
        "id": "_PkUnG-5U7ZI"
      },
      "source": [
        "<br>\n",
        "\n",
        "**_`Changing the Class attribute will affecting all the instance attribute`_**\n",
        "\n",
        "<br>\n",
        "\n",
        "## Instance Attributes\n",
        "An attribute that is **_specific to each instance of a class_**\n",
        "\n",
        "* __Syntax:__\n",
        "```python\n",
        "ObjectInstance.attributes = value\n",
        "```"
      ]
    },
    {
      "cell_type": "code",
      "execution_count": null,
      "metadata": {
        "id": "G0SOD2GQU7ZJ",
        "outputId": "d71566f3-c804-4863-efcc-cfe81056b9df"
      },
      "outputs": [
        {
          "data": {
            "text/plain": [
              "'John'"
            ]
          },
          "execution_count": 6,
          "metadata": {},
          "output_type": "execute_result"
        }
      ],
      "source": [
        "# Create Instance Attributes name of each employee object\n",
        "employeeOne.name = 'John'\n",
        "employeeOne.name"
      ]
    },
    {
      "cell_type": "code",
      "execution_count": null,
      "metadata": {
        "id": "wkj43aVXU7ZJ",
        "outputId": "348c6841-012f-45ef-b6c6-12e5eafb85b0"
      },
      "outputs": [
        {
          "data": {
            "text/plain": [
              "'Mary'"
            ]
          },
          "execution_count": 7,
          "metadata": {},
          "output_type": "execute_result"
        }
      ],
      "source": [
        "employeeTwo.name = 'Mary'\n",
        "employeeTwo.name"
      ]
    },
    {
      "cell_type": "markdown",
      "metadata": {
        "id": "4tqZD8XWU7ZK"
      },
      "source": [
        "___\n",
        "\n",
        "# **_`Self`_** Parameters\n",
        "Every instance method accepts has a default parameter that is being accepted. By convention, this parameter is named self.\n",
        "\n",
        "The self parameter is used to refer to the attributes of that instance of the class.\n",
        "\n",
        "\n",
        "* __Syntax:__\n",
        "```python\n",
        "class className:\n",
        "    def methodName(self):\n",
        "        self.instanceAttribute = value\n",
        "```\n",
        "\n",
        "### Why `self` parameter is needed ?\n",
        "\n",
        "Let's try create class method without `self` parameters\n",
        "\n",
        "```python\n",
        "# Create class method without self parameter\n",
        "class Employee:\n",
        "    def employeeDetails():\n",
        "        pass\n",
        "    \n",
        "# Instantiate Object and call the method without self parameter\n",
        "employeeOne = Employee()\n",
        "employeeOne.employeeDetails()\n",
        "```\n",
        "<img src=\"https://github.com/BenedictusAryo/OOP_Python/blob/master/assets/1_without%20self.png?raw=1\" width=\"500\" align=\"left\">"
      ]
    },
    {
      "cell_type": "markdown",
      "metadata": {
        "id": "zBrGpXoRU7ZL"
      },
      "source": [
        "**Notice, it will throw an error `employeeDetails() takes 0 positional arguments but 1 was given`**\n",
        "\n",
        "When we call \n",
        "```python\n",
        "employeeOne.employeeDetails()\n",
        "``` \n",
        "it's similar with\n",
        "```python\n",
        "Employee.employeeDetails(employeeOne)\n",
        "```\n",
        "Which is **takes 1 argument of the instance itself**, that's why we call it `self` parameter\n",
        "\n",
        "## Make use of Self Parameters"
      ]
    },
    {
      "cell_type": "code",
      "execution_count": null,
      "metadata": {
        "id": "3UN0ypAaU7ZL",
        "outputId": "77079345-d2bf-438e-9edd-f10d68f01f2c"
      },
      "outputs": [
        {
          "name": "stdout",
          "output_type": "stream",
          "text": [
            "Name:  Matthew\n"
          ]
        }
      ],
      "source": [
        "# Create class with self parameter inside the method\n",
        "class Employee:\n",
        "    def employeeDetails(self):\n",
        "        self.name = 'Matthew'\n",
        "        print(\"Name: \", self.name)\n",
        "    \n",
        "employeeOne = Employee()\n",
        "employeeOne.employeeDetails()"
      ]
    },
    {
      "cell_type": "markdown",
      "metadata": {
        "id": "jTY5Uw6PU7ZM"
      },
      "source": [
        "<br>\n",
        "\n",
        "The result will be the same with:\n",
        "\n"
      ]
    },
    {
      "cell_type": "code",
      "execution_count": null,
      "metadata": {
        "id": "M4UuTRRRU7ZM",
        "outputId": "8cd7f2a5-02ee-4c7e-deca-30046b5a2d9b"
      },
      "outputs": [
        {
          "name": "stdout",
          "output_type": "stream",
          "text": [
            "Name:  Matthew\n"
          ]
        }
      ],
      "source": [
        "Employee.employeeDetails(employeeOne)"
      ]
    },
    {
      "cell_type": "markdown",
      "metadata": {
        "id": "EuWcgZB0U7ZN"
      },
      "source": [
        "### Create attribute without using `self` parameter"
      ]
    },
    {
      "cell_type": "code",
      "execution_count": null,
      "metadata": {
        "id": "g5v_uVyLU7ZN",
        "outputId": "3a25531e-5300-4401-f816-0789fd243128"
      },
      "outputs": [
        {
          "name": "stdout",
          "output_type": "stream",
          "text": [
            "Age:  30\n"
          ]
        }
      ],
      "source": [
        "class Employee:\n",
        "    def employeeDetails(self):\n",
        "        age = 30\n",
        "        print(\"Age: \", age)\n",
        "    \n",
        "employeeOne = Employee()\n",
        "employeeOne.employeeDetails()"
      ]
    },
    {
      "cell_type": "markdown",
      "metadata": {
        "id": "rrzxSJKqU7ZO"
      },
      "source": [
        "<br>\n",
        "\n",
        "The **`Age`** Output is success even without the `self` parameter, then why we need self parameter ?\n",
        "\n",
        "<br>\n",
        "\n",
        "**_`When we create an instance attribute, The objective is for that particular attribute to be available throughout the lifespan of your object`_**\n",
        "\n",
        "<br>\n",
        "\n",
        "> **`Lifespan of object`** => The time the object is being created until the time it's being destroyed **_(When the program terminats or manually delete the object)_**\n",
        "\n",
        "So it means that the **`Age`** attribute should be accessible in other methods of the object as well.\n",
        "\n",
        "```python\n",
        "class Employee:\n",
        "    def employeeDetails(self):\n",
        "        age = 30\n",
        "        print(\"Age: \", age)\n",
        "    # check Age accessible in another method\n",
        "    def printAge(self):\n",
        "        print(\"Print Age: \", age)\n",
        "    \n",
        "employeeOne = Employee()\n",
        "employeeOne.printAge()\n",
        "```\n",
        "\n",
        "<img src=\"https://github.com/BenedictusAryo/OOP_Python/blob/master/assets/2_not%20accessible.png?raw=1\" width=\"450\" align=\"left\">"
      ]
    },
    {
      "cell_type": "markdown",
      "metadata": {
        "id": "TF9dRNrQU7ZO"
      },
      "source": [
        "This means, this **`age`** attribute cannot be accessed within the **`printAge()`** method.\n",
        "\n",
        "That's because when we create an age attribute, we never used the name of our object. In order **to create an instance attribute, We need to use the name of our object.**\n",
        "\n",
        "So, since we did not use the name of an object, the lifespan of the **`age`** attribute is only within our method. So **once our method termininates, this particular attribute cannot be used in any other methods.**\n",
        "\n",
        "<br><br>\n",
        "\n",
        "___\n",
        "\n",
        "# Static Methods\n",
        "\n",
        "**_`A method that does not have access to any of the instance attributes of a class is called a static method`_**\n",
        "\n",
        "## The Need of Static Method\n",
        "Previously we already learn about `instance method` which is using the `self` parameters.\n",
        "\n",
        "But, What if we have method which do not need to initiate instance attribute ?\n",
        "\n",
        "```python\n",
        "class Employee:\n",
        "    def welcomeMessage():\n",
        "        print(\"Welcome to our organization\")\n",
        "```\n",
        "\n",
        "The instance method **`welcomeMessage()`** is not needing the **instance attribute** since, it's task is only printing welcome message to employee, So it should no need the self parameter right ?<br>\n",
        "But if we execute the method:\n",
        "\n",
        "```python\n",
        "employee = Employee()\n",
        "employee.welcomeMessage()\n",
        "```\n",
        "\n",
        "It will thrown an error:\n",
        "\n",
        "<img src=\"https://github.com/BenedictusAryo/OOP_Python/blob/master/assets/3_the%20need%20of%20static%20method.png?raw=1\" width=\"450\" align=\"left\">"
      ]
    },
    {
      "cell_type": "markdown",
      "metadata": {
        "id": "y3wJQBxbU7ZP"
      },
      "source": [
        "## Static Method usage\n",
        "\n",
        "Static method uses a decorator **`@staticmethod`** to indicate this method will not be taking the default self parameter.\n",
        "\n",
        "* __Syntax:__\n",
        "```python\n",
        "class ClassName:\n",
        "    \n",
        "    @staticmethod\n",
        "    def methodName():\n",
        "        # self is not being declared since this is a static method\n",
        "        # method body\n",
        "```"
      ]
    },
    {
      "cell_type": "code",
      "execution_count": null,
      "metadata": {
        "id": "9NOUfTqiU7ZP",
        "outputId": "e74460d1-1f8a-412c-e993-68f2222ca44d"
      },
      "outputs": [
        {
          "name": "stdout",
          "output_type": "stream",
          "text": [
            "Welcome to our organization\n"
          ]
        }
      ],
      "source": [
        "class Employee:\n",
        "    @staticmethod\n",
        "    def welcomeMessage():\n",
        "        print(\"Welcome to our organization\")\n",
        "        \n",
        "employee = Employee()\n",
        "employee.welcomeMessage()"
      ]
    },
    {
      "cell_type": "markdown",
      "metadata": {
        "id": "f_VbUBYQU7ZQ"
      },
      "source": [
        "<br><br>\n",
        "\n",
        "___\n",
        "\n",
        "# **`__init__()`** Method\n",
        "\n",
        "An init method is **_`the constructor of a class that can be used to initialize data members of that class.\n",
        "It is the first method that is being called on creation of an object.`_**\n",
        "\n",
        "<br>\n",
        "\n",
        "Let's say we have a class:\n",
        "\n",
        "```python\n",
        "class Employee:\n",
        "    def enterEmployeeDetails(self):\n",
        "        self.name = 'Mark'\n",
        "        \n",
        "    def displayEmployeeDetails(self):\n",
        "        print(self.name)\n",
        "```\n",
        "\n",
        "If we want to display the `name` attribute, we can call method `displayEmployeeDetails()`. <br>But if we run: \n",
        "\n",
        "```python\n",
        "employee = Employee()\n",
        "employee.displayEmployeeDetails()\n",
        "```\n",
        "\n",
        "It will thrown an error:\n",
        "\n",
        "<img src=\"https://github.com/BenedictusAryo/OOP_Python/blob/master/assets/4_attribute%20error.png?raw=1\" width=\"450\" align=\"left\">"
      ]
    },
    {
      "cell_type": "markdown",
      "metadata": {
        "id": "4B3zIKNtU7ZR"
      },
      "source": [
        "Since the `enterEmployeeDetails()` method is not ran first, it will thrown the **`AttributeError`**.\n",
        "\n",
        "To make the name attribute always initialize first, we can make use of the `__init__()` method.\n",
        "\n",
        "* __Syntax:__\n",
        "```python\n",
        "class ClassName:\n",
        "    def __init__(self):\n",
        "        # Initialize the data members of the class\n",
        "```"
      ]
    },
    {
      "cell_type": "code",
      "execution_count": null,
      "metadata": {
        "id": "xjax-SHpU7ZR",
        "outputId": "c25fa1e4-fd83-45f0-93cb-49e9a1dbe146"
      },
      "outputs": [
        {
          "name": "stdout",
          "output_type": "stream",
          "text": [
            "Mark\n"
          ]
        }
      ],
      "source": [
        "class Employee:\n",
        "    def __init__(self):\n",
        "        self.name = 'Mark'\n",
        "\n",
        "    def displayEmployeeDetails(self):\n",
        "        print(self.name)\n",
        "        \n",
        "employee = Employee()\n",
        "employee.displayEmployeeDetails()"
      ]
    },
    {
      "cell_type": "markdown",
      "metadata": {
        "id": "PgGyL5AQU7ZS"
      },
      "source": [
        "<br>\n",
        "\n",
        "## Taking Parameter with *`__init__()`* method\n",
        "\n",
        "We can also make use of parameter inside *`__init__()`* method\n",
        "\n",
        "* __Syntax:__\n",
        "```python\n",
        "class ClassName:\n",
        "    def __init__(self, param):\n",
        "        self.parameter = param\n",
        "```        "
      ]
    },
    {
      "cell_type": "code",
      "execution_count": null,
      "metadata": {
        "id": "vdkTL9sIU7ZS",
        "outputId": "357a8658-0e22-44f5-eb3e-c277e0bd7a3e"
      },
      "outputs": [
        {
          "name": "stdout",
          "output_type": "stream",
          "text": [
            "Employee Name:  Mark\n",
            "Employee Name:  Matthew\n"
          ]
        }
      ],
      "source": [
        "class Employee:\n",
        "    \n",
        "    def __init__(self, name):\n",
        "        self.name = name\n",
        "        \n",
        "    def displayEmployeeDetails(self):\n",
        "        print('Employee Name: ', self.name)\n",
        "        \n",
        "        \n",
        "employeeOne = Employee('Mark')\n",
        "employeeOne.displayEmployeeDetails()\n",
        "\n",
        "employeeTwo = Employee('Matthew')\n",
        "employeeTwo.displayEmployeeDetails()"
      ]
    },
    {
      "cell_type": "markdown",
      "metadata": {
        "id": "P-kvTXBEU7ZT"
      },
      "source": [
        "<br>\n",
        "\n",
        "The `Employee` class now have parameter which is `name` parameter"
      ]
    }
  ],
  "metadata": {
    "kernelspec": {
      "display_name": "Python 3",
      "language": "python",
      "name": "python3"
    },
    "language_info": {
      "codemirror_mode": {
        "name": "ipython",
        "version": 3
      },
      "file_extension": ".py",
      "mimetype": "text/x-python",
      "name": "python",
      "nbconvert_exporter": "python",
      "pygments_lexer": "ipython3",
      "version": "3.7.4"
    },
    "colab": {
      "provenance": [],
      "include_colab_link": true
    }
  },
  "nbformat": 4,
  "nbformat_minor": 0
}