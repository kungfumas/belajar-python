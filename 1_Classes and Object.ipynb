{
  "cells": [
    {
      "cell_type": "markdown",
      "metadata": {
        "id": "qkXnp-jyUK1o"
      },
      "source": [
        "# 1. Classes and Object\n",
        "\n",
        "## The Need to go for classes and objects:\n",
        "\n",
        "Say, we have a function called `calculateSalary()` This function is made globally so it can be accessed by **`Employee`** and **`Student`**.\n",
        "\n",
        "We want to restrict the access to this function only to and **`Employee`** and **NOT** to a **`Student`**.\n",
        "\n",
        "So classes and objects help us do that by placing this function called `calculateSalary()` within a box and we seal that box and make it available only to an **Employee**.\n",
        "\n",
        "<br><br>\n",
        "\n",
        "## Class\n",
        "A class is logical grouping of attributes(variables) and\n",
        "methods(functions)\n",
        "\n",
        "* __Syntax:__\n",
        "```python\n",
        "class ClassName:\n",
        "    # class body\n",
        "```\n"
      ]
    },
    {
      "cell_type": "code",
      "execution_count": null,
      "metadata": {
        "id": "Xcn7NF46UK1q"
      },
      "outputs": [],
      "source": [
        "# Check if and employee has achieved his weekly target or not\n",
        "class Employee:\n",
        "    name = 'Ben'\n",
        "    designation = 'Sales Executive'\n",
        "    salesMadeThisWeek = 6\n",
        "    def hasAchievedTarget(self):\n",
        "        if self.salesMadeThisWeek >= 5:\n",
        "            print('Target has been achieved')\n",
        "        else:\n",
        "            print('target has not been achieved')"
      ]
    },
    {
      "cell_type": "markdown",
      "metadata": {
        "id": "S0xNaXBpUK1r"
      },
      "source": [
        "<br><br>\n",
        "\n",
        "## Object\n",
        "Object is an instance of a class that has access to all the attributes and methods of that class\n",
        "* **Syntax:**\n",
        "```python\n",
        "objectName = ClassName()\n",
        "```\n",
        "The object now has access to all the\n",
        "attributes and methods of the class\n",
        "\n",
        "### Object Instantiation\n",
        "The process of creation of an object of a class is called instantiation"
      ]
    },
    {
      "cell_type": "code",
      "execution_count": null,
      "metadata": {
        "id": "DXa79WeVUK1r",
        "outputId": "7fa21b6d-97a0-4c7b-847d-f512dca0167d"
      },
      "outputs": [
        {
          "data": {
            "text/plain": [
              "'Ben'"
            ]
          },
          "execution_count": 2,
          "metadata": {},
          "output_type": "execute_result"
        }
      ],
      "source": [
        "# Instantiate Object\n",
        "employeeOne = Employee()\n",
        "\n",
        "# Check EmployeeOne Name\n",
        "employeeOne.name"
      ]
    },
    {
      "cell_type": "code",
      "execution_count": null,
      "metadata": {
        "id": "hwrj7Of8UK1s",
        "outputId": "9441b75a-4b8b-4142-d7c7-4cad184d91a4"
      },
      "outputs": [
        {
          "name": "stdout",
          "output_type": "stream",
          "text": [
            "Target has been achieved\n"
          ]
        }
      ],
      "source": [
        "# Check if the object has achieved Target\n",
        "employeeOne.hasAchievedTarget()"
      ]
    },
    {
      "cell_type": "markdown",
      "metadata": {
        "id": "-7NqntnxUK1t"
      },
      "source": [
        "<br>\n",
        "\n",
        "Now, let's create another `Employee` object"
      ]
    },
    {
      "cell_type": "code",
      "execution_count": null,
      "metadata": {
        "id": "twG4ys5EUK1t",
        "outputId": "65cbe089-d74b-41f9-b651-56fed0efaa6a"
      },
      "outputs": [
        {
          "data": {
            "text/plain": [
              "'Ben'"
            ]
          },
          "execution_count": 4,
          "metadata": {},
          "output_type": "execute_result"
        }
      ],
      "source": [
        "employeeTwo = Employee()\n",
        "\n",
        "# Check EmployeeTwo Name\n",
        "employeeTwo.name"
      ]
    },
    {
      "cell_type": "markdown",
      "metadata": {
        "id": "BHR3PGosUK1t"
      },
      "source": [
        "This is **not the right way to initialize attributes of yout objects when you have the attributes that are specific to each object**\n",
        "\n",
        "<br><br>\n",
        "\n",
        "___\n",
        "\n",
        "## Everything in Python is an Object"
      ]
    },
    {
      "cell_type": "code",
      "execution_count": null,
      "metadata": {
        "id": "wpy2j2kyUK1t",
        "outputId": "ec4a0392-8942-4454-a8c1-31c7af06ad4c"
      },
      "outputs": [
        {
          "name": "stdout",
          "output_type": "stream",
          "text": [
            "<class 'list'>\n",
            "<class 'str'>\n"
          ]
        }
      ],
      "source": [
        "numbers = [1, 2, 3]\n",
        "words = 'Hello world!'\n",
        "\n",
        "print(type(numbers))\n",
        "print(type(words))"
      ]
    },
    {
      "cell_type": "markdown",
      "metadata": {
        "id": "HHOikfruUK1u"
      },
      "source": [
        "We see that even the variable `numbers` and `words` is an Object created from the class `List` and `String` Datatype.\n",
        "\n",
        "Each class have their specific method. \n",
        "\n",
        "**_Example:_** "
      ]
    },
    {
      "cell_type": "code",
      "execution_count": null,
      "metadata": {
        "id": "f0vmS_75UK1u",
        "outputId": "7a270c2e-a0cb-4186-81e9-9a1e227b4cdc"
      },
      "outputs": [
        {
          "data": {
            "text/plain": [
              "[1, 2, 3, 4]"
            ]
          },
          "execution_count": 6,
          "metadata": {},
          "output_type": "execute_result"
        }
      ],
      "source": [
        "numbers.append(4)\n",
        "numbers"
      ]
    },
    {
      "cell_type": "markdown",
      "metadata": {
        "id": "u1ZFyDgfUK1u"
      },
      "source": [
        "The method `append()` only owned by `List Object`"
      ]
    }
  ],
  "metadata": {
    "kernelspec": {
      "display_name": "Python 3",
      "language": "python",
      "name": "python3"
    },
    "language_info": {
      "codemirror_mode": {
        "name": "ipython",
        "version": 3
      },
      "file_extension": ".py",
      "mimetype": "text/x-python",
      "name": "python",
      "nbconvert_exporter": "python",
      "pygments_lexer": "ipython3",
      "version": "3.7.4"
    },
    "colab": {
      "provenance": []
    }
  },
  "nbformat": 4,
  "nbformat_minor": 0
}