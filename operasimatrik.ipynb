{
  "nbformat": 4,
  "nbformat_minor": 0,
  "metadata": {
    "colab": {
      "provenance": [],
      "collapsed_sections": [],
      "authorship_tag": "ABX9TyPakhp73q0RlHrqbB9rTuAC",
      "include_colab_link": true
    },
    "kernelspec": {
      "name": "python3",
      "display_name": "Python 3"
    },
    "language_info": {
      "name": "python"
    }
  },
  "cells": [
    {
      "cell_type": "markdown",
      "metadata": {
        "id": "view-in-github",
        "colab_type": "text"
      },
      "source": [
        "<a href=\"https://colab.research.google.com/github/kungfumas/belajar-python/blob/master/operasimatrik.ipynb\" target=\"_parent\"><img src=\"https://colab.research.google.com/assets/colab-badge.svg\" alt=\"Open In Colab\"/></a>"
      ]
    },
    {
      "cell_type": "code",
      "execution_count": null,
      "metadata": {
        "id": "Ykiwjy6NfAu-"
      },
      "outputs": [],
      "source": [
        "A=[[1,2],[3,4]]"
      ]
    },
    {
      "cell_type": "code",
      "source": [
        "B=[[1,2],[3,4]]"
      ],
      "metadata": {
        "id": "sYn8YKPhaLuy"
      },
      "execution_count": null,
      "outputs": []
    },
    {
      "cell_type": "code",
      "source": [
        "A"
      ],
      "metadata": {
        "colab": {
          "base_uri": "https://localhost:8080/"
        },
        "id": "m_gCZXf_ZpjI",
        "outputId": "ef610fa5-619f-47cf-82f2-f23e5617c0bb"
      },
      "execution_count": null,
      "outputs": [
        {
          "output_type": "execute_result",
          "data": {
            "text/plain": [
              "[[1, 2], [3, 4]]"
            ]
          },
          "metadata": {},
          "execution_count": 4
        }
      ]
    },
    {
      "cell_type": "code",
      "source": [
        "A[0][0]"
      ],
      "metadata": {
        "colab": {
          "base_uri": "https://localhost:8080/"
        },
        "id": "nUvZZHKWZxQr",
        "outputId": "0d225fd4-97dc-42c0-f8d5-f822b1557fc9"
      },
      "execution_count": null,
      "outputs": [
        {
          "output_type": "execute_result",
          "data": {
            "text/plain": [
              "1"
            ]
          },
          "metadata": {},
          "execution_count": 7
        }
      ]
    },
    {
      "cell_type": "code",
      "source": [
        "C=A"
      ],
      "metadata": {
        "id": "icNSjPObaY3b"
      },
      "execution_count": null,
      "outputs": []
    },
    {
      "cell_type": "code",
      "source": [
        "for i in range(2):\n",
        "  for j in range(2):\n",
        "    C[i][j]=A[i][j]+B[i][j]\n",
        "    \n"
      ],
      "metadata": {
        "id": "Ev1CO3wiaQD-"
      },
      "execution_count": null,
      "outputs": []
    },
    {
      "cell_type": "code",
      "source": [
        "C"
      ],
      "metadata": {
        "colab": {
          "base_uri": "https://localhost:8080/"
        },
        "id": "uvJYuOibclUd",
        "outputId": "e1b11a99-584f-49d8-c847-a92a6eabf1f8"
      },
      "execution_count": null,
      "outputs": [
        {
          "output_type": "execute_result",
          "data": {
            "text/plain": [
              "[[2, 4], [6, 8]]"
            ]
          },
          "metadata": {},
          "execution_count": 20
        }
      ]
    },
    {
      "cell_type": "code",
      "source": [
        "for i in range(2):\n",
        "  for j in range(2):\n",
        "    C[i][j]=0\n",
        "    for k in range(2):\n",
        "      C[i][j]=C[i][j]+A[i][k]*B[k][j]\n",
        "      \n"
      ],
      "metadata": {
        "id": "eLgP4lqjj-nr"
      },
      "execution_count": null,
      "outputs": []
    },
    {
      "cell_type": "code",
      "source": [
        "C"
      ],
      "metadata": {
        "id": "nKQ16s_HkkRO",
        "outputId": "28c12210-2107-40ff-c09e-19c7702fde1b",
        "colab": {
          "base_uri": "https://localhost:8080/"
        }
      },
      "execution_count": null,
      "outputs": [
        {
          "output_type": "execute_result",
          "data": {
            "text/plain": [
              "[[12, 120], [24, 240]]"
            ]
          },
          "metadata": {},
          "execution_count": 22
        }
      ]
    }
  ]
}